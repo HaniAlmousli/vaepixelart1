{
 "cells": [
  {
   "cell_type": "code",
   "execution_count": 1,
   "metadata": {
    "collapsed": false
   },
   "outputs": [
    {
     "name": "stdout",
     "output_type": "stream",
     "text": [
      "Loading  data\n",
      "Data was loaded\n",
      "instantiating model\n",
      "192 128\n",
      "63 42\n",
      "30 20\n",
      "1 6 6\n",
      "20 10 10\n"
     ]
    },
    {
     "name": "stderr",
     "output_type": "stream",
     "text": [
      "/home/hani/Repos/vae/characterds/VAEConv.py:726: UserWarning: theano.function was asked to create a function computing outputs given certain inputs, but the provided input variable at index 1 is not part of the computational graph needed to compute the outputs: epoch.\n",
      "To make this warning into an error, you can pass the parameter on_unused_input='raise' to theano.function. To disable it completely, use on_unused_input='ignore'.\n",
      "  self.x: x_train[self.batch*optimizer.batch_size:(self.batch+1)*optimizer.batch_size, :]\n"
     ]
    }
   ],
   "source": [
    "import numpy as np\n",
    "import time\n",
    "import os\n",
    "from VAEConv import VAEConvDec\n",
    "import pickle\n",
    "import gzip\n",
    "import pdb\n",
    "from dataloader import *\n",
    "from optimizer import AdamOptimizer,RMSPROP,GDA\n",
    "import pdb\n",
    "import matplotlib.pyplot as plt\n",
    "\n",
    "\n",
    "def GetImageToView(nphsvim):\n",
    "    preToRGB= matplotlib.colors.hsv_to_rgb(nphsvim.reshape([192,128,3]))*255\n",
    "    preToRGB[preToRGB<0] = 0\n",
    "    preToRGB[preToRGB>255] = 255\n",
    "    preToRGB2 = np.asarray(np.round(preToRGB),'uint8')\n",
    "    return Image.fromarray(preToRGB2)\n",
    "\n",
    "theano.config.dnn.conv.algo_bwd_filter=\"deterministic\"\n",
    "theano.config.dnn.conv.algo_bwd_data  =\"deterministic\"\n",
    "\n",
    "\n",
    "\"\"\"\n",
    "to have an output of 48x32 of a 3by3 filter with 2 pool => 48*2+3 =99   AND 32*2+3=67\n",
    "to have an output of 99x67 from deconv of an input of 10*10 the w and h => 99-10+1=90   67-10+1=58 \n",
    "hu_decoder':[(20,90,58,\"dec\"),(1,3,3,2,2,\"conv\")] to get 48*32\n",
    "\"\"\"\n",
    "\n",
    "\n",
    "path=os.path.expanduser(\"~/ModelOut/\")\n",
    "\n",
    "conf=pickle.load(open(path+'conf.pkl','rb'))\n",
    "\n",
    "\n",
    "lamdaKL = conf['lamdaKL']\n",
    "hu_encoder = conf['hu_encoder']\n",
    "hu_decoder = conf['hu_decoder']\n",
    "n_latent = conf['n_latent']\n",
    "n_epochs = conf['n_epochs']\n",
    "\n",
    "batch_size=conf['batch_size']\n",
    "learning_rate = conf['learning_rate']\n",
    "\n",
    "print (\"Loading  data\")\n",
    "x_train,x_valid = GetData()\n",
    "\n",
    "print (\"Data was loaded\")\n",
    "\n",
    "sampleSize,featureSize = x_train.get_value().shape\n",
    "# pdb.set_trace()\n",
    "path = os.path.expanduser(\"~/ModelOut/\")\n",
    "\n",
    "print (\"instantiating model\")\n",
    "rng = np.random.RandomState(42)\n",
    "model = VAEConvDec(conf,rng,featureSize, hu_encoder, hu_decoder, n_latent, lamdaKL,\n",
    "                  rows=192,cols=128,inpChannels=3)\n",
    "# pdb.set_trace()\n",
    "if conf['optim']=='rmsprop':\n",
    "    optim = RMSPROP(model.params,learning_rate, batch_size=batch_size,decay_rate=conf['decay_rate'],l2=conf['l2'])\n",
    "elif conf['optim']=='gda':\n",
    "    optim = GDA(model.params,learning_rate, batch_size=batch_size,l2=conf['l2'])\n",
    "else:\n",
    "    optim = AdamOptimizer(model.params,learning_rate, sampleSize, \n",
    "        b1=conf['b1'], b2=conf['b2'], batch_size=batch_size,l2=conf['l2'])\n",
    "\n",
    "# pdb.set_trace() \n",
    "tf_update= model.getUpdates(x_train,optim) #[batch,epoch,lr ]\n",
    "\n",
    "\n",
    "batch_order = np.arange(int(sampleSize / batch_size))\n",
    "epoch = 0\n",
    "LB_list = []\n",
    "\n",
    "\n",
    "model.load_parameters(path,optim)\n",
    "\n",
    "genimage = model.decodeFromPrior()\n",
    "\n",
    "getOut= theano.function([model.x],[model.layers[2].output_mu,\n",
    "                                                model.layers[2].output_sig])\n",
    "out=getOut(x_train.get_value())"
   ]
  },
  {
   "cell_type": "code",
   "execution_count": 10,
   "metadata": {
    "collapsed": false
   },
   "outputs": [
    {
     "data": {
      "image/png": "[encoded data removed]",
      "text/plain": [
       "<matplotlib.figure.Figure at 0x7f423d73a278>"
      ]
     },
     "metadata": {},
     "output_type": "display_data"
    },
    {
     "name": "stdout",
     "output_type": "stream",
     "text": [
      "2.9593\n"
     ]
    }
   ],
   "source": [
    "model.trainmode.set_value(0.)\n",
    "zs = model.getzvalues(x_valid.get_value())\n",
    "n, bins, patches = plt.hist(zs.reshape([-1]), 300, normed=1, facecolor='green', alpha=0.75) \n",
    "plt.show()\n",
    "np.mean(np.logical_and(zs.reshape(-1) >-2,  zs.reshape(-1)<2))\n",
    "model.trainmode.set_value(1.)\n",
    "print(np.std(zs.reshape([-1])))\n",
    "model.trainmode.set_value(1.)"
   ]
  },
  {
   "cell_type": "code",
   "execution_count": 2,
   "metadata": {
    "collapsed": true
   },
   "outputs": [],
   "source": [
    "import matplotlib.pyplot as plt\n",
    "\n",
    "\n",
    "genimage = model.decodeFromPrior(100)\n",
    "\n",
    "model.trainmode.set_value(0.)\n",
    "model.learningMode.set_value(0.)\n",
    "\n",
    "mu,sigma,prior = genimage()\n",
    "\n",
    "for i in range(100):\n",
    "    img = GetImageToView(mu[i])\n",
    "    img.save(\"/home/hani/Data/gen/characterDS/\"+str(i)+\".bmp\")\n",
    "\n",
    "model.learningMode.set_value(1.)\n",
    "model.trainmode.set_value(1.)\n"
   ]
  },
  {
   "cell_type": "code",
   "execution_count": 9,
   "metadata": {
    "collapsed": false
   },
   "outputs": [
    {
     "data": {
      "image/png": "[encoded data removed]",
      "text/plain": [
       "<matplotlib.figure.Figure at 0x7f423eaa5860>"
      ]
     },
     "metadata": {},
     "output_type": "display_data"
    }
   ],
   "source": [
    "model.trainmode.set_value(0.)\n",
    "model.learningMode.set_value(0.)\n",
    "index=[10,100,150,400]\n",
    "fig, axs = plt.subplots(nrows=2, ncols=2, sharex=True)\n",
    "for i in range(2):\n",
    "    for j in range(2):\n",
    "        ax = axs[i,j]\n",
    "        x = out[0][index[2*i+j]]\n",
    "        y = np.arange(x.shape[0])\n",
    "        #e = 2*np.sqrt(np.exp(out[1][2*i+j]))\n",
    "        ax.errorbar(x, y, xerr=0, linestyle='None', marker='^')\n",
    "        ax.set_title('index '+str(index[2*i+j]))\n",
    "plt.show()\n",
    "model.learningMode.set_value(1.)\n",
    "model.trainmode.set_value(1.)"
   ]
  },
  {
   "cell_type": "code",
   "execution_count": 8,
   "metadata": {
    "collapsed": false
   },
   "outputs": [
    {
     "data": {
      "text/plain": [
       "array([ 0.13068882,  0.06432988,  0.12614463,  0.11484045,  0.07131743,\n",
       "        0.07263255,  0.04100469,  0.05158542,  0.14133337,  0.04469826,\n",
       "        0.11023524,  0.13393968,  0.13477221,  0.11792876,  0.13712068,\n",
       "        0.0843746 ,  0.09198786,  0.11532288,  0.1282296 ,  0.21183008,\n",
       "        0.29335034,  0.12854405,  0.18273775,  0.07057364,  0.06086989,\n",
       "        0.03477265,  0.10883841,  0.18854243,  0.25154176,  0.31483993,\n",
       "        0.19016676,  0.15627697,  0.04700311,  0.06023839,  0.07124942,\n",
       "        0.08733052], dtype=float32)"
      ]
     },
     "execution_count": 8,
     "metadata": {},
     "output_type": "execute_result"
    }
   ],
   "source": [
    "np.sqrt(np.exp(out[1][0]))"
   ]
  }
 ],
 "metadata": {
  "anaconda-cloud": {},
  "kernelspec": {
   "display_name": "Python [conda root]",
   "language": "python",
   "name": "conda-root-py"
  },
  "language_info": {
   "codemirror_mode": {
    "name": "ipython",
    "version": 3
   },
   "file_extension": ".py",
   "mimetype": "text/x-python",
   "name": "python",
   "nbconvert_exporter": "python",
   "pygments_lexer": "ipython3",
   "version": "3.5.2"
  }
 },
 "nbformat": 4,
 "nbformat_minor": 1
}
